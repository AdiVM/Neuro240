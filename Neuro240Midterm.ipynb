{
  "nbformat": 4,
  "nbformat_minor": 0,
  "metadata": {
    "colab": {
      "provenance": [],
      "authorship_tag": "ABX9TyMB2IPSP+16mCpWGi1bh13X",
      "include_colab_link": true
    },
    "kernelspec": {
      "name": "python3",
      "display_name": "Python 3"
    },
    "language_info": {
      "name": "python"
    }
  },
  "cells": [
    {
      "cell_type": "markdown",
      "metadata": {
        "id": "view-in-github",
        "colab_type": "text"
      },
      "source": [
        "<a href=\"https://colab.research.google.com/github/AdiVM/Neuro240/blob/main/Neuro240Midterm.ipynb\" target=\"_parent\"><img src=\"https://colab.research.google.com/assets/colab-badge.svg\" alt=\"Open In Colab\"/></a>"
      ]
    },
    {
      "cell_type": "code",
      "execution_count": 1,
      "metadata": {
        "colab": {
          "base_uri": "https://localhost:8080/"
        },
        "id": "_33-dXtdFVKf",
        "outputId": "a8dc8479-9809-4cbf-d827-648b77139155"
      },
      "outputs": [
        {
          "output_type": "stream",
          "name": "stdout",
          "text": [
            "Mounted at /content/drive\n"
          ]
        }
      ],
      "source": [
        "from google.colab import drive\n",
        "drive.mount('/content/drive')"
      ]
    },
    {
      "cell_type": "code",
      "source": [
        "# # This file download block is adapted from the .py script given in batch_download_zips.py provided by Summers, Ronald (NIH/CC/DRD)\n",
        "# import urllib.request\n",
        "# import os\n",
        "\n",
        "# drive_path = \"/content/drive/MyDrive/NIH_ChestXRay_Data\"\n",
        "# os.makedirs(drive_path, exist_ok=True)\n",
        "\n",
        "# # URLs for the zip files\n",
        "# links = [\n",
        "#     'https://nihcc.box.com/shared/static/vfk49d74nhbxq3nqjg0900w5nvkorp5c.gz',\n",
        "#     'https://nihcc.box.com/shared/static/i28rlmbvmfjbl8p2n3ril0pptcmcu9d1.gz',\n",
        "#     'https://nihcc.box.com/shared/static/f1t00wrtdk94satdfb9olcolqx20z2jp.gz',\n",
        "#     'https://nihcc.box.com/shared/static/0aowwzs5lhjrceb3qp67ahp0rd1l1etg.gz',\n",
        "#     'https://nihcc.box.com/shared/static/v5e3goj22zr6h8tzualxfsqlqaygfbsn.gz',\n",
        "#     'https://nihcc.box.com/shared/static/asi7ikud9jwnkrnkj99jnpfkjdes7l6l.gz',\n",
        "#     'https://nihcc.box.com/shared/static/jn1b4mw4n6lnh74ovmcjb8y48h8xj07n.gz',\n",
        "#     'https://nihcc.box.com/shared/static/tvpxmn7qyrgl0w8wfh9kqfjskv6nmm1j.gz',\n",
        "#     'https://nihcc.box.com/shared/static/upyy3ml7qdumlgk2rfcvlb9k6gvqq2pj.gz',\n",
        "#     'https://nihcc.box.com/shared/static/l6nilvfa9cg3s28tqv1qc1olm3gnz54p.gz',\n",
        "#     'https://nihcc.box.com/shared/static/hhq8fkdgvcari67vfhs7ppg2w6ni4jze.gz',\n",
        "#     'https://nihcc.box.com/shared/static/ioqwiy20ihqwyr8pf4c24eazhh281pbu.gz'\n",
        "# ]\n",
        "\n",
        "# # Download each file\n",
        "# for idx, link in enumerate(links):\n",
        "#     fn = os.path.join(drive_path, f'images_{idx+1:02d}.tar.gz')\n",
        "#     print(f'Downloading {fn}')\n",
        "#     urllib.request.urlretrieve(link, fn)\n",
        "\n",
        "# print(\"Download done\")"
      ],
      "metadata": {
        "colab": {
          "base_uri": "https://localhost:8080/"
        },
        "id": "12JOZvbYdGaW",
        "outputId": "b7b3e07b-5793-44bd-84de-4f068f7904f1"
      },
      "execution_count": 2,
      "outputs": [
        {
          "output_type": "stream",
          "name": "stdout",
          "text": [
            "Downloading /content/drive/MyDrive/NIH_ChestXRay_Data/images_01.tar.gz\n",
            "Downloading /content/drive/MyDrive/NIH_ChestXRay_Data/images_02.tar.gz\n",
            "Downloading /content/drive/MyDrive/NIH_ChestXRay_Data/images_03.tar.gz\n",
            "Downloading /content/drive/MyDrive/NIH_ChestXRay_Data/images_04.tar.gz\n",
            "Downloading /content/drive/MyDrive/NIH_ChestXRay_Data/images_05.tar.gz\n",
            "Downloading /content/drive/MyDrive/NIH_ChestXRay_Data/images_06.tar.gz\n",
            "Downloading /content/drive/MyDrive/NIH_ChestXRay_Data/images_07.tar.gz\n",
            "Downloading /content/drive/MyDrive/NIH_ChestXRay_Data/images_08.tar.gz\n",
            "Downloading /content/drive/MyDrive/NIH_ChestXRay_Data/images_09.tar.gz\n",
            "Downloading /content/drive/MyDrive/NIH_ChestXRay_Data/images_10.tar.gz\n",
            "Downloading /content/drive/MyDrive/NIH_ChestXRay_Data/images_11.tar.gz\n",
            "Downloading /content/drive/MyDrive/NIH_ChestXRay_Data/images_12.tar.gz\n",
            "Download done\n"
          ]
        }
      ]
    },
    {
      "cell_type": "code",
      "source": [
        "import os\n",
        "import tarfile\n",
        "\n",
        "# Define source and destination paths\n",
        "drive_path = \"/content/drive/MyDrive/NIH_ChestXRay_Data\"\n",
        "extract_path = \"/content/extracted_images\"\n",
        "os.makedirs(extract_path, exist_ok=True)\n",
        "\n",
        "# List the downloaded files\n",
        "files = [f for f in os.listdir(drive_path) if f.endswith(\".tar.gz\")]\n",
        "print(\"Files to be extracted:\", files)\n",
        "\n",
        "# Extract each file properly\n",
        "for file in files:\n",
        "    file_path = os.path.join(drive_path, file)\n",
        "    print(f\"Extracting {file_path}...\")\n",
        "\n",
        "    try:\n",
        "        with tarfile.open(file_path, \"r:gz\") as tar:\n",
        "            tar.extractall(path=extract_path)\n",
        "        print(f\"Successfully extracted {file}\")\n",
        "    except Exception as e:\n",
        "        print(f\"Error extracting {file}: {e}\")\n",
        "\n",
        "print(\"Extraction process completed.\")"
      ],
      "metadata": {
        "colab": {
          "base_uri": "https://localhost:8080/"
        },
        "id": "0Ip2lCyfnrX7",
        "outputId": "b2ac140a-3f9a-4538-d252-dae457586a13"
      },
      "execution_count": 3,
      "outputs": [
        {
          "output_type": "stream",
          "name": "stdout",
          "text": [
            "Files to be extracted: ['images_01.tar.gz', 'images_02.tar.gz', 'images_03.tar.gz', 'images_04.tar.gz', 'images_05.tar.gz', 'images_06.tar.gz', 'images_07.tar.gz', 'images_08.tar.gz', 'images_09.tar.gz', 'images_10.tar.gz', 'images_11.tar.gz', 'images_12.tar.gz']\n",
            "Extracting /content/drive/MyDrive/NIH_ChestXRay_Data/images_01.tar.gz\n",
            "Successfully extracted images_01.tar.gz\n",
            "Extracting /content/drive/MyDrive/NIH_ChestXRay_Data/images_02.tar.gz\n",
            "Successfully extracted images_02.tar.gz\n",
            "Extracting /content/drive/MyDrive/NIH_ChestXRay_Data/images_03.tar.gz\n",
            "Successfully extracted images_03.tar.gz\n",
            "Extracting /content/drive/MyDrive/NIH_ChestXRay_Data/images_04.tar.gz\n",
            "Successfully extracted images_04.tar.gz\n",
            "Extracting /content/drive/MyDrive/NIH_ChestXRay_Data/images_05.tar.gz\n",
            "Successfully extracted images_05.tar.gz\n",
            "Extracting /content/drive/MyDrive/NIH_ChestXRay_Data/images_06.tar.gz\n",
            "Successfully extracted images_06.tar.gz\n",
            "Extracting /content/drive/MyDrive/NIH_ChestXRay_Data/images_07.tar.gz\n",
            "Successfully extracted images_07.tar.gz\n",
            "Extracting /content/drive/MyDrive/NIH_ChestXRay_Data/images_08.tar.gz\n",
            "Successfully extracted images_08.tar.gz\n",
            "Extracting /content/drive/MyDrive/NIH_ChestXRay_Data/images_09.tar.gz\n",
            "Successfully extracted images_09.tar.gz\n",
            "Extracting /content/drive/MyDrive/NIH_ChestXRay_Data/images_10.tar.gz\n",
            "Successfully extracted images_10.tar.gz\n",
            "Extracting /content/drive/MyDrive/NIH_ChestXRay_Data/images_11.tar.gz\n",
            "Successfully extracted images_11.tar.gz\n",
            "Extracting /content/drive/MyDrive/NIH_ChestXRay_Data/images_12.tar.gz\n",
            "Successfully extracted images_12.tar.gz\n",
            "Extraction done\n"
          ]
        }
      ]
    },
    {
      "cell_type": "code",
      "source": [],
      "metadata": {
        "id": "Xng3IVTQokaD"
      },
      "execution_count": 3,
      "outputs": []
    },
    {
      "cell_type": "code",
      "source": [
        "import os\n",
        "\n",
        "# Define extracted images path\n",
        "extracted_path = \"/content/extracted_images\"\n",
        "print(\"Total extracted images:\", len(os.listdir(extracted_path)))\n",
        "print(\"Sample images:\", os.listdir(extracted_path)[:10])"
      ],
      "metadata": {
        "colab": {
          "base_uri": "https://localhost:8080/"
        },
        "id": "WG2L9WJ5nvJU",
        "outputId": "f4256cf5-fd3d-41df-e112-0403ffcb6955"
      },
      "execution_count": 11,
      "outputs": [
        {
          "output_type": "stream",
          "name": "stdout",
          "text": [
            "Total extracted images: 1\n",
            "Sample images: ['images']\n"
          ]
        }
      ]
    },
    {
      "cell_type": "code",
      "source": [
        "import os\n",
        "extracted_path = \"/content/extracted_images\"\n",
        "print(\"Extracted files:\", os.listdir(extracted_path))"
      ],
      "metadata": {
        "colab": {
          "base_uri": "https://localhost:8080/"
        },
        "id": "1alXRNkZp98m",
        "outputId": "be9a1edc-d39b-434b-88e6-44fbf18daeb3"
      },
      "execution_count": 12,
      "outputs": [
        {
          "output_type": "stream",
          "name": "stdout",
          "text": [
            "Extracted files: ['images']\n"
          ]
        }
      ]
    },
    {
      "cell_type": "code",
      "source": [
        "# Update extracted path\n",
        "extracted_path = \"/content/extracted_images/images\"\n",
        "print(\"Total extracted images:\", len(os.listdir(extracted_path)))\n",
        "print(\"Sample images:\", os.listdir(extracted_path)[:10])"
      ],
      "metadata": {
        "colab": {
          "base_uri": "https://localhost:8080/"
        },
        "id": "MhaU1ehqv0HX",
        "outputId": "20e9d366-a376-4546-82ad-76c958d47108"
      },
      "execution_count": 13,
      "outputs": [
        {
          "output_type": "stream",
          "name": "stdout",
          "text": [
            "Total extracted images: 112120\n",
            "Sample images: ['00005543_002.png', '00010481_001.png', '00016185_002.png', '00014945_007.png', '00026997_002.png', '00007093_011.png', '00012549_007.png', '00004967_000.png', '00005066_059.png', '00028537_000.png']\n"
          ]
        }
      ]
    },
    {
      "cell_type": "code",
      "source": [
        "import pandas as pd\n",
        "import os\n",
        "\n",
        "# Define the correct extracted path (with the nested folder)\n",
        "extracted_path = \"/content/extracted_images/images\"\n",
        "\n",
        "# Define metadata file path\n",
        "csv_path = \"/content/drive/MyDrive/NIH_ChestXRay_Data/Data_Entry_2017_v2020.csv\"\n",
        "\n",
        "# Load metadata\n",
        "metadata = pd.read_csv(csv_path)\n",
        "\n",
        "# Display first few rows\n",
        "print(metadata.head())"
      ],
      "metadata": {
        "colab": {
          "base_uri": "https://localhost:8080/"
        },
        "id": "Kj3eGIOpwOI-",
        "outputId": "41df4b63-0bce-4eae-a707-02c401885f45"
      },
      "execution_count": 15,
      "outputs": [
        {
          "output_type": "stream",
          "name": "stdout",
          "text": [
            "        Image Index          Finding Labels  Follow-up #  Patient ID  \\\n",
            "0  00000001_000.png            Cardiomegaly            0           1   \n",
            "1  00000001_001.png  Cardiomegaly|Emphysema            1           1   \n",
            "2  00000001_002.png   Cardiomegaly|Effusion            2           1   \n",
            "3  00000002_000.png              No Finding            0           2   \n",
            "4  00000003_001.png                  Hernia            0           3   \n",
            "\n",
            "   Patient Age Patient Gender View Position  OriginalImage[Width  Height]  \\\n",
            "0           57              M            PA                 2682     2749   \n",
            "1           58              M            PA                 2894     2729   \n",
            "2           58              M            PA                 2500     2048   \n",
            "3           80              M            PA                 2500     2048   \n",
            "4           74              F            PA                 2500     2048   \n",
            "\n",
            "   OriginalImagePixelSpacing[x     y]  \n",
            "0                        0.143  0.143  \n",
            "1                        0.143  0.143  \n",
            "2                        0.168  0.168  \n",
            "3                        0.171  0.171  \n",
            "4                        0.168  0.168  \n"
          ]
        }
      ]
    },
    {
      "cell_type": "code",
      "source": [
        "# Filter metadata to only include images labeled with \"Mass\"\n",
        "mass_images = metadata[metadata[\"Finding Labels\"].str.contains(\"Mass\", na=False)]\n",
        "\n",
        "# Get a list of all extracted image filenames\n",
        "extracted_files = set(os.listdir(extracted_path))\n",
        "\n",
        "# Keep only images that exist in the extracted folder\n",
        "mass_images = mass_images[mass_images[\"Image Index\"].isin(extracted_files)]\n",
        "\n",
        "# Display final count\n",
        "print(f\"Total 'Mass' images in extracted dataset: {len(mass_images)}\")\n",
        "\n",
        "# Show first few rows\n",
        "mass_images.head()"
      ],
      "metadata": {
        "colab": {
          "base_uri": "https://localhost:8080/",
          "height": 224
        },
        "id": "oQbTd_tBwXms",
        "outputId": "d57abf53-8483-4b66-a4c2-27236f3425b5"
      },
      "execution_count": 16,
      "outputs": [
        {
          "output_type": "stream",
          "name": "stdout",
          "text": [
            "Total 'Mass' images in extracted dataset: 5782\n"
          ]
        },
        {
          "output_type": "execute_result",
          "data": {
            "text/plain": [
              "         Image Index                  Finding Labels  Follow-up #  Patient ID  \\\n",
              "12  00000004_000.png                     Mass|Nodule            0           4   \n",
              "37  00000012_000.png                   Effusion|Mass            0          12   \n",
              "38  00000013_022.png               Infiltration|Mass            0          13   \n",
              "39  00000013_023.png  Infiltration|Mass|Pneumothorax            1          13   \n",
              "40  00000013_024.png                            Mass            2          13   \n",
              "\n",
              "    Patient Age Patient Gender View Position  OriginalImage[Width  Height]  \\\n",
              "12           82              M            AP                 2500     2048   \n",
              "37           76              M            PA                 2992     2991   \n",
              "38           56              M            PA                 2870     2991   \n",
              "39           56              M            AP                 2500     2048   \n",
              "40           56              M            AP                 2500     2048   \n",
              "\n",
              "    OriginalImagePixelSpacing[x     y]  \n",
              "12                        0.168  0.168  \n",
              "37                        0.143  0.143  \n",
              "38                        0.143  0.143  \n",
              "39                        0.168  0.168  \n",
              "40                        0.168  0.168  "
            ],
            "text/html": [
              "\n",
              "  <div id=\"df-f0690774-37cf-43f0-9f24-3694928b4b13\" class=\"colab-df-container\">\n",
              "    <div>\n",
              "<style scoped>\n",
              "    .dataframe tbody tr th:only-of-type {\n",
              "        vertical-align: middle;\n",
              "    }\n",
              "\n",
              "    .dataframe tbody tr th {\n",
              "        vertical-align: top;\n",
              "    }\n",
              "\n",
              "    .dataframe thead th {\n",
              "        text-align: right;\n",
              "    }\n",
              "</style>\n",
              "<table border=\"1\" class=\"dataframe\">\n",
              "  <thead>\n",
              "    <tr style=\"text-align: right;\">\n",
              "      <th></th>\n",
              "      <th>Image Index</th>\n",
              "      <th>Finding Labels</th>\n",
              "      <th>Follow-up #</th>\n",
              "      <th>Patient ID</th>\n",
              "      <th>Patient Age</th>\n",
              "      <th>Patient Gender</th>\n",
              "      <th>View Position</th>\n",
              "      <th>OriginalImage[Width</th>\n",
              "      <th>Height]</th>\n",
              "      <th>OriginalImagePixelSpacing[x</th>\n",
              "      <th>y]</th>\n",
              "    </tr>\n",
              "  </thead>\n",
              "  <tbody>\n",
              "    <tr>\n",
              "      <th>12</th>\n",
              "      <td>00000004_000.png</td>\n",
              "      <td>Mass|Nodule</td>\n",
              "      <td>0</td>\n",
              "      <td>4</td>\n",
              "      <td>82</td>\n",
              "      <td>M</td>\n",
              "      <td>AP</td>\n",
              "      <td>2500</td>\n",
              "      <td>2048</td>\n",
              "      <td>0.168</td>\n",
              "      <td>0.168</td>\n",
              "    </tr>\n",
              "    <tr>\n",
              "      <th>37</th>\n",
              "      <td>00000012_000.png</td>\n",
              "      <td>Effusion|Mass</td>\n",
              "      <td>0</td>\n",
              "      <td>12</td>\n",
              "      <td>76</td>\n",
              "      <td>M</td>\n",
              "      <td>PA</td>\n",
              "      <td>2992</td>\n",
              "      <td>2991</td>\n",
              "      <td>0.143</td>\n",
              "      <td>0.143</td>\n",
              "    </tr>\n",
              "    <tr>\n",
              "      <th>38</th>\n",
              "      <td>00000013_022.png</td>\n",
              "      <td>Infiltration|Mass</td>\n",
              "      <td>0</td>\n",
              "      <td>13</td>\n",
              "      <td>56</td>\n",
              "      <td>M</td>\n",
              "      <td>PA</td>\n",
              "      <td>2870</td>\n",
              "      <td>2991</td>\n",
              "      <td>0.143</td>\n",
              "      <td>0.143</td>\n",
              "    </tr>\n",
              "    <tr>\n",
              "      <th>39</th>\n",
              "      <td>00000013_023.png</td>\n",
              "      <td>Infiltration|Mass|Pneumothorax</td>\n",
              "      <td>1</td>\n",
              "      <td>13</td>\n",
              "      <td>56</td>\n",
              "      <td>M</td>\n",
              "      <td>AP</td>\n",
              "      <td>2500</td>\n",
              "      <td>2048</td>\n",
              "      <td>0.168</td>\n",
              "      <td>0.168</td>\n",
              "    </tr>\n",
              "    <tr>\n",
              "      <th>40</th>\n",
              "      <td>00000013_024.png</td>\n",
              "      <td>Mass</td>\n",
              "      <td>2</td>\n",
              "      <td>13</td>\n",
              "      <td>56</td>\n",
              "      <td>M</td>\n",
              "      <td>AP</td>\n",
              "      <td>2500</td>\n",
              "      <td>2048</td>\n",
              "      <td>0.168</td>\n",
              "      <td>0.168</td>\n",
              "    </tr>\n",
              "  </tbody>\n",
              "</table>\n",
              "</div>\n",
              "    <div class=\"colab-df-buttons\">\n",
              "\n",
              "  <div class=\"colab-df-container\">\n",
              "    <button class=\"colab-df-convert\" onclick=\"convertToInteractive('df-f0690774-37cf-43f0-9f24-3694928b4b13')\"\n",
              "            title=\"Convert this dataframe to an interactive table.\"\n",
              "            style=\"display:none;\">\n",
              "\n",
              "  <svg xmlns=\"http://www.w3.org/2000/svg\" height=\"24px\" viewBox=\"0 -960 960 960\">\n",
              "    <path d=\"M120-120v-720h720v720H120Zm60-500h600v-160H180v160Zm220 220h160v-160H400v160Zm0 220h160v-160H400v160ZM180-400h160v-160H180v160Zm440 0h160v-160H620v160ZM180-180h160v-160H180v160Zm440 0h160v-160H620v160Z\"/>\n",
              "  </svg>\n",
              "    </button>\n",
              "\n",
              "  <style>\n",
              "    .colab-df-container {\n",
              "      display:flex;\n",
              "      gap: 12px;\n",
              "    }\n",
              "\n",
              "    .colab-df-convert {\n",
              "      background-color: #E8F0FE;\n",
              "      border: none;\n",
              "      border-radius: 50%;\n",
              "      cursor: pointer;\n",
              "      display: none;\n",
              "      fill: #1967D2;\n",
              "      height: 32px;\n",
              "      padding: 0 0 0 0;\n",
              "      width: 32px;\n",
              "    }\n",
              "\n",
              "    .colab-df-convert:hover {\n",
              "      background-color: #E2EBFA;\n",
              "      box-shadow: 0px 1px 2px rgba(60, 64, 67, 0.3), 0px 1px 3px 1px rgba(60, 64, 67, 0.15);\n",
              "      fill: #174EA6;\n",
              "    }\n",
              "\n",
              "    .colab-df-buttons div {\n",
              "      margin-bottom: 4px;\n",
              "    }\n",
              "\n",
              "    [theme=dark] .colab-df-convert {\n",
              "      background-color: #3B4455;\n",
              "      fill: #D2E3FC;\n",
              "    }\n",
              "\n",
              "    [theme=dark] .colab-df-convert:hover {\n",
              "      background-color: #434B5C;\n",
              "      box-shadow: 0px 1px 3px 1px rgba(0, 0, 0, 0.15);\n",
              "      filter: drop-shadow(0px 1px 2px rgba(0, 0, 0, 0.3));\n",
              "      fill: #FFFFFF;\n",
              "    }\n",
              "  </style>\n",
              "\n",
              "    <script>\n",
              "      const buttonEl =\n",
              "        document.querySelector('#df-f0690774-37cf-43f0-9f24-3694928b4b13 button.colab-df-convert');\n",
              "      buttonEl.style.display =\n",
              "        google.colab.kernel.accessAllowed ? 'block' : 'none';\n",
              "\n",
              "      async function convertToInteractive(key) {\n",
              "        const element = document.querySelector('#df-f0690774-37cf-43f0-9f24-3694928b4b13');\n",
              "        const dataTable =\n",
              "          await google.colab.kernel.invokeFunction('convertToInteractive',\n",
              "                                                    [key], {});\n",
              "        if (!dataTable) return;\n",
              "\n",
              "        const docLinkHtml = 'Like what you see? Visit the ' +\n",
              "          '<a target=\"_blank\" href=https://colab.research.google.com/notebooks/data_table.ipynb>data table notebook</a>'\n",
              "          + ' to learn more about interactive tables.';\n",
              "        element.innerHTML = '';\n",
              "        dataTable['output_type'] = 'display_data';\n",
              "        await google.colab.output.renderOutput(dataTable, element);\n",
              "        const docLink = document.createElement('div');\n",
              "        docLink.innerHTML = docLinkHtml;\n",
              "        element.appendChild(docLink);\n",
              "      }\n",
              "    </script>\n",
              "  </div>\n",
              "\n",
              "\n",
              "<div id=\"df-069d95ca-ba4c-41fe-8904-85a49d1021dc\">\n",
              "  <button class=\"colab-df-quickchart\" onclick=\"quickchart('df-069d95ca-ba4c-41fe-8904-85a49d1021dc')\"\n",
              "            title=\"Suggest charts\"\n",
              "            style=\"display:none;\">\n",
              "\n",
              "<svg xmlns=\"http://www.w3.org/2000/svg\" height=\"24px\"viewBox=\"0 0 24 24\"\n",
              "     width=\"24px\">\n",
              "    <g>\n",
              "        <path d=\"M19 3H5c-1.1 0-2 .9-2 2v14c0 1.1.9 2 2 2h14c1.1 0 2-.9 2-2V5c0-1.1-.9-2-2-2zM9 17H7v-7h2v7zm4 0h-2V7h2v10zm4 0h-2v-4h2v4z\"/>\n",
              "    </g>\n",
              "</svg>\n",
              "  </button>\n",
              "\n",
              "<style>\n",
              "  .colab-df-quickchart {\n",
              "      --bg-color: #E8F0FE;\n",
              "      --fill-color: #1967D2;\n",
              "      --hover-bg-color: #E2EBFA;\n",
              "      --hover-fill-color: #174EA6;\n",
              "      --disabled-fill-color: #AAA;\n",
              "      --disabled-bg-color: #DDD;\n",
              "  }\n",
              "\n",
              "  [theme=dark] .colab-df-quickchart {\n",
              "      --bg-color: #3B4455;\n",
              "      --fill-color: #D2E3FC;\n",
              "      --hover-bg-color: #434B5C;\n",
              "      --hover-fill-color: #FFFFFF;\n",
              "      --disabled-bg-color: #3B4455;\n",
              "      --disabled-fill-color: #666;\n",
              "  }\n",
              "\n",
              "  .colab-df-quickchart {\n",
              "    background-color: var(--bg-color);\n",
              "    border: none;\n",
              "    border-radius: 50%;\n",
              "    cursor: pointer;\n",
              "    display: none;\n",
              "    fill: var(--fill-color);\n",
              "    height: 32px;\n",
              "    padding: 0;\n",
              "    width: 32px;\n",
              "  }\n",
              "\n",
              "  .colab-df-quickchart:hover {\n",
              "    background-color: var(--hover-bg-color);\n",
              "    box-shadow: 0 1px 2px rgba(60, 64, 67, 0.3), 0 1px 3px 1px rgba(60, 64, 67, 0.15);\n",
              "    fill: var(--button-hover-fill-color);\n",
              "  }\n",
              "\n",
              "  .colab-df-quickchart-complete:disabled,\n",
              "  .colab-df-quickchart-complete:disabled:hover {\n",
              "    background-color: var(--disabled-bg-color);\n",
              "    fill: var(--disabled-fill-color);\n",
              "    box-shadow: none;\n",
              "  }\n",
              "\n",
              "  .colab-df-spinner {\n",
              "    border: 2px solid var(--fill-color);\n",
              "    border-color: transparent;\n",
              "    border-bottom-color: var(--fill-color);\n",
              "    animation:\n",
              "      spin 1s steps(1) infinite;\n",
              "  }\n",
              "\n",
              "  @keyframes spin {\n",
              "    0% {\n",
              "      border-color: transparent;\n",
              "      border-bottom-color: var(--fill-color);\n",
              "      border-left-color: var(--fill-color);\n",
              "    }\n",
              "    20% {\n",
              "      border-color: transparent;\n",
              "      border-left-color: var(--fill-color);\n",
              "      border-top-color: var(--fill-color);\n",
              "    }\n",
              "    30% {\n",
              "      border-color: transparent;\n",
              "      border-left-color: var(--fill-color);\n",
              "      border-top-color: var(--fill-color);\n",
              "      border-right-color: var(--fill-color);\n",
              "    }\n",
              "    40% {\n",
              "      border-color: transparent;\n",
              "      border-right-color: var(--fill-color);\n",
              "      border-top-color: var(--fill-color);\n",
              "    }\n",
              "    60% {\n",
              "      border-color: transparent;\n",
              "      border-right-color: var(--fill-color);\n",
              "    }\n",
              "    80% {\n",
              "      border-color: transparent;\n",
              "      border-right-color: var(--fill-color);\n",
              "      border-bottom-color: var(--fill-color);\n",
              "    }\n",
              "    90% {\n",
              "      border-color: transparent;\n",
              "      border-bottom-color: var(--fill-color);\n",
              "    }\n",
              "  }\n",
              "</style>\n",
              "\n",
              "  <script>\n",
              "    async function quickchart(key) {\n",
              "      const quickchartButtonEl =\n",
              "        document.querySelector('#' + key + ' button');\n",
              "      quickchartButtonEl.disabled = true;  // To prevent multiple clicks.\n",
              "      quickchartButtonEl.classList.add('colab-df-spinner');\n",
              "      try {\n",
              "        const charts = await google.colab.kernel.invokeFunction(\n",
              "            'suggestCharts', [key], {});\n",
              "      } catch (error) {\n",
              "        console.error('Error during call to suggestCharts:', error);\n",
              "      }\n",
              "      quickchartButtonEl.classList.remove('colab-df-spinner');\n",
              "      quickchartButtonEl.classList.add('colab-df-quickchart-complete');\n",
              "    }\n",
              "    (() => {\n",
              "      let quickchartButtonEl =\n",
              "        document.querySelector('#df-069d95ca-ba4c-41fe-8904-85a49d1021dc button');\n",
              "      quickchartButtonEl.style.display =\n",
              "        google.colab.kernel.accessAllowed ? 'block' : 'none';\n",
              "    })();\n",
              "  </script>\n",
              "</div>\n",
              "\n",
              "    </div>\n",
              "  </div>\n"
            ],
            "application/vnd.google.colaboratory.intrinsic+json": {
              "type": "dataframe",
              "variable_name": "mass_images",
              "summary": "{\n  \"name\": \"mass_images\",\n  \"rows\": 5782,\n  \"fields\": [\n    {\n      \"column\": \"Image Index\",\n      \"properties\": {\n        \"dtype\": \"string\",\n        \"num_unique_values\": 5782,\n        \"samples\": [\n          \"00011723_028.png\",\n          \"00012376_008.png\",\n          \"00016778_037.png\"\n        ],\n        \"semantic_type\": \"\",\n        \"description\": \"\"\n      }\n    },\n    {\n      \"column\": \"Finding Labels\",\n      \"properties\": {\n        \"dtype\": \"category\",\n        \"num_unique_values\": 294,\n        \"samples\": [\n          \"Consolidation|Effusion|Mass\",\n          \"Emphysema|Mass|Pneumothorax\",\n          \"Atelectasis|Mass|Pleural_Thickening|Pneumothorax\"\n        ],\n        \"semantic_type\": \"\",\n        \"description\": \"\"\n      }\n    },\n    {\n      \"column\": \"Follow-up #\",\n      \"properties\": {\n        \"dtype\": \"number\",\n        \"std\": 14,\n        \"min\": 0,\n        \"max\": 172,\n        \"num_unique_values\": 110,\n        \"samples\": [\n          58,\n          21,\n          5\n        ],\n        \"semantic_type\": \"\",\n        \"description\": \"\"\n      }\n    },\n    {\n      \"column\": \"Patient ID\",\n      \"properties\": {\n        \"dtype\": \"number\",\n        \"std\": 7600,\n        \"min\": 4,\n        \"max\": 30801,\n        \"num_unique_values\": 2568,\n        \"samples\": [\n          29225,\n          11436,\n          14251\n        ],\n        \"semantic_type\": \"\",\n        \"description\": \"\"\n      }\n    },\n    {\n      \"column\": \"Patient Age\",\n      \"properties\": {\n        \"dtype\": \"number\",\n        \"std\": 16,\n        \"min\": 1,\n        \"max\": 91,\n        \"num_unique_values\": 87,\n        \"samples\": [\n          15,\n          82,\n          28\n        ],\n        \"semantic_type\": \"\",\n        \"description\": \"\"\n      }\n    },\n    {\n      \"column\": \"Patient Gender\",\n      \"properties\": {\n        \"dtype\": \"category\",\n        \"num_unique_values\": 2,\n        \"samples\": [\n          \"F\",\n          \"M\"\n        ],\n        \"semantic_type\": \"\",\n        \"description\": \"\"\n      }\n    },\n    {\n      \"column\": \"View Position\",\n      \"properties\": {\n        \"dtype\": \"category\",\n        \"num_unique_values\": 2,\n        \"samples\": [\n          \"PA\",\n          \"AP\"\n        ],\n        \"semantic_type\": \"\",\n        \"description\": \"\"\n      }\n    },\n    {\n      \"column\": \"OriginalImage[Width\",\n      \"properties\": {\n        \"dtype\": \"number\",\n        \"std\": 326,\n        \"min\": 1613,\n        \"max\": 3056,\n        \"num_unique_values\": 328,\n        \"samples\": [\n          2416,\n          2554\n        ],\n        \"semantic_type\": \"\",\n        \"description\": \"\"\n      }\n    },\n    {\n      \"column\": \"Height]\",\n      \"properties\": {\n        \"dtype\": \"number\",\n        \"std\": 406,\n        \"min\": 1645,\n        \"max\": 3056,\n        \"num_unique_values\": 306,\n        \"samples\": [\n          2817,\n          2601\n        ],\n        \"semantic_type\": \"\",\n        \"description\": \"\"\n      }\n    },\n    {\n      \"column\": \"OriginalImagePixelSpacing[x\",\n      \"properties\": {\n        \"dtype\": \"number\",\n        \"std\": 0.015381676520407166,\n        \"min\": 0.139,\n        \"max\": 0.1943359999999999,\n        \"num_unique_values\": 9,\n        \"samples\": [\n          0.194326,\n          0.143\n        ],\n        \"semantic_type\": \"\",\n        \"description\": \"\"\n      }\n    },\n    {\n      \"column\": \"y]\",\n      \"properties\": {\n        \"dtype\": \"number\",\n        \"std\": 0.015381676520407166,\n        \"min\": 0.139,\n        \"max\": 0.1943359999999999,\n        \"num_unique_values\": 9,\n        \"samples\": [\n          0.194326,\n          0.143\n        ],\n        \"semantic_type\": \"\",\n        \"description\": \"\"\n      }\n    }\n  ]\n}"
            }
          },
          "metadata": {},
          "execution_count": 16
        }
      ]
    },
    {
      "cell_type": "code",
      "source": [
        "from sklearn.model_selection import train_test_split\n",
        "\n",
        "# Split into training (80%) and testing (20%)\n",
        "train_images, test_images = train_test_split(mass_images, test_size=0.2, random_state=42)\n",
        "\n",
        "# Print results\n",
        "print(f\"Training images: {len(train_images)}\")\n",
        "print(f\"Testing images: {len(test_images)}\")"
      ],
      "metadata": {
        "colab": {
          "base_uri": "https://localhost:8080/"
        },
        "id": "zlhAXM4PwjO6",
        "outputId": "d68f2190-42a7-4e72-8bc6-f7b5d3111cf4"
      },
      "execution_count": 17,
      "outputs": [
        {
          "output_type": "stream",
          "name": "stdout",
          "text": [
            "Training images: 4625\n",
            "Testing images: 1157\n"
          ]
        }
      ]
    },
    {
      "cell_type": "code",
      "source": [
        "# Save train-test split as CSV files\n",
        "train_images.to_csv(\"/content/drive/MyDrive/NIH_ChestXRay_Data/train_images.csv\", index=False)\n",
        "test_images.to_csv(\"/content/drive/MyDrive/NIH_ChestXRay_Data/test_images.csv\", index=False)\n",
        "\n",
        "print(\"Train-test split saved to My Google Drive!\")"
      ],
      "metadata": {
        "colab": {
          "base_uri": "https://localhost:8080/"
        },
        "id": "lxMt2JPMwm3S",
        "outputId": "e3299d49-1d8e-4ad2-b6bd-16afbd665486"
      },
      "execution_count": 18,
      "outputs": [
        {
          "output_type": "stream",
          "name": "stdout",
          "text": [
            "Train-test split saved to My Google Drive!\n"
          ]
        }
      ]
    },
    {
      "cell_type": "code",
      "source": [
        "Preprocess images for CNN input\n",
        "\n",
        "Load images dynamically during training\n",
        "\n",
        "Define and train a CNN (ResNet, EfficientNet, or custom model)"
      ],
      "metadata": {
        "id": "sIeJujSHwuPs"
      },
      "execution_count": null,
      "outputs": []
    }
  ]
}